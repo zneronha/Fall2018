{
 "cells": [
  {
   "cell_type": "code",
   "execution_count": 1,
   "metadata": {},
   "outputs": [],
   "source": [
    "#import packages, create helper functions\n",
    "import numpy as np\n",
    "import pandas as pd\n",
    "\n",
    "def m_dist(center, AllPts):\n",
    "    Xdif = AllPts[:,0]-center[0,0]\n",
    "    Ydif = AllPts[:,1]-center[0,1]\n",
    "    xS = Xdif**2\n",
    "    yS = Ydif**2\n",
    "    dMat = np.sqrt(xS+yS)\n",
    "    return (dMat)"
   ]
  },
  {
   "cell_type": "code",
   "execution_count": 2,
   "metadata": {},
   "outputs": [],
   "source": [
    "#Define appropriate parameters and storage arrays\n",
    "TotalPoints = 10\n",
    "Df = 1.7\n",
    "StoreMat = np.empty((100,2))\n",
    "StoreMat[1,:] = [0,0]\n",
    "Cpt = 0\n",
    "\n",
    "GridSize = 10\n",
    "Grid = np.empty(((GridSize+1)**2,2))\n",
    "counter = 0\n",
    "\n",
    "#create the grid points in appropriate range\n",
    "for i in np.array(range(0,GridSize+1))-GridSize/2:\n",
    "    for j in np.array(range(0,GridSize+1))-GridSize/2:\n",
    "        Grid[counter,:] = [i,j]\n",
    "        counter = counter + 1"
   ]
  },
  {
   "cell_type": "code",
   "execution_count": 3,
   "metadata": {
    "scrolled": false
   },
   "outputs": [],
   "source": [
    "#go up to the appropriate number of points\n",
    "Cpt = 0\n",
    "while Cpt <TotalPoints:\n",
    "    #now find the nearest points that haven't yet been computerd\n",
    "    tdist = m_dist(np.array([[0,0]]),np.array(Grid))\n",
    "    nearest = np.min(tdist)\n",
    "    nLOG = tdist==nearest\n",
    "    m = Grid[nLOG==1,:]\n",
    "    Grid = Grid[nLOG==0,:]\n",
    "    \n",
    "    #now determine how many points we need to add at this radius of gyration\n",
    "    \n",
    "    \n",
    "    #and determine where to (randomly) place them\n",
    "    \n",
    "    \n",
    "    Cpt = Cpt + 1\n"
   ]
  },
  {
   "cell_type": "code",
   "execution_count": null,
   "metadata": {},
   "outputs": [],
   "source": [
    "\n",
    "\n",
    "\n",
    "\n",
    "\n",
    "\n",
    "\n",
    "\n",
    "\n",
    "\n",
    "\n",
    "\n",
    "\n",
    "\n",
    "\n",
    "\n"
   ]
  }
 ],
 "metadata": {
  "kernelspec": {
   "display_name": "Python 2",
   "language": "python",
   "name": "python2"
  },
  "language_info": {
   "codemirror_mode": {
    "name": "ipython",
    "version": 2
   },
   "file_extension": ".py",
   "mimetype": "text/x-python",
   "name": "python",
   "nbconvert_exporter": "python",
   "pygments_lexer": "ipython2",
   "version": "2.7.15"
  }
 },
 "nbformat": 4,
 "nbformat_minor": 2
}
