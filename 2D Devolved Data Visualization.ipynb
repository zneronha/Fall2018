{
 "cells": [
  {
   "cell_type": "markdown",
   "metadata": {},
   "source": [
    "# 2D Visualization of 3D Data\n",
    "## Zachary Neronha, Wong Lab\n",
    "### 26 October 2018, created for the purpose of simple viewing of data in two dimensions "
   ]
  },
  {
   "cell_type": "code",
   "execution_count": 2,
   "metadata": {},
   "outputs": [
    {
     "data": {
      "text/html": [
       "<script>requirejs.config({paths: { 'plotly': ['https://cdn.plot.ly/plotly-latest.min']},});if(!window.Plotly) {{require(['plotly'],function(plotly) {window.Plotly=plotly;});}}</script>"
      ],
      "text/vnd.plotly.v1+html": [
       "<script>requirejs.config({paths: { 'plotly': ['https://cdn.plot.ly/plotly-latest.min']},});if(!window.Plotly) {{require(['plotly'],function(plotly) {window.Plotly=plotly;});}}</script>"
      ]
     },
     "metadata": {},
     "output_type": "display_data"
    }
   ],
   "source": [
    "import numpy as np\n",
    "import pandas as pd\n",
    "from mpl_toolkits.mplot3d import Axes3D\n",
    "import matplotlib.pyplot as plt\n",
    "import matplotlib\n",
    "import matplotlib.cm as cm\n",
    "import plotly.graph_objs as go\n",
    "from plotly.offline import download_plotlyjs, init_notebook_mode, plot, iplot\n",
    "%matplotlib inline\n",
    "from __future__ import division\n",
    "init_notebook_mode(connected=True)\n",
    "import plotly.plotly as py\n",
    "import plotly\n",
    "plotly.tools.set_credentials_file(username='zjneronha', api_key='PMrKGUGAet6kUZ5Rcf5E')\n",
    "import brewer2mpl as cbrew"
   ]
  },
  {
   "cell_type": "code",
   "execution_count": 6,
   "metadata": {},
   "outputs": [
    {
     "name": "stdout",
     "output_type": "stream",
     "text": [
      "rgb(230.90196078431373,97.38039215686274,1.003921568627451)\n"
     ]
    }
   ],
   "source": [
    "#import data from csv\n",
    "xlsZ = pd.ExcelFile(\"NuclearTracking/ConvertedData/w18_combineddata.xls\")\n",
    "dxx = pd.read_excel(xlsZ,'xStore')\n",
    "dyy = pd.read_excel(xlsZ,'yStore')\n",
    "dzz = pd.read_excel(xlsZ,'zStore')\n",
    "xDat = np.array(dxx)\n",
    "yDat = np.array(dyy)\n",
    "zDat = np.array(dzz)\n",
    "cmap = cbrew.get_map('PuOr','Diverging',5).mpl_colors\n",
    "colors = [list(elem) for elem in cmap]\n",
    "c = 'rgb('+repr(colors[0][0]*256)+','+repr(colors[0][1]*256)+','+repr(colors[0][2]*256)+')'"
   ]
  },
  {
   "cell_type": "code",
   "execution_count": 12,
   "metadata": {
    "scrolled": false
   },
   "outputs": [
    {
     "name": "stdout",
     "output_type": "stream",
     "text": [
      "rgb(231.0,97.0,1.0)\n",
      "rgb(254.0,185.0,99.0)\n",
      "rgb(248.0,248.0,248.0)\n",
      "High five! You successfully sent some data to your account on plotly. View your plot in your browser at https://plot.ly/~zjneronha/0 or inside your plot.ly account where it is named 'basic-line'\n"
     ]
    },
    {
     "data": {
      "text/html": [
       "<iframe id=\"igraph\" scrolling=\"no\" style=\"border:none;\" seamless=\"seamless\" src=\"https://plot.ly/~zjneronha/0.embed\" height=\"525px\" width=\"100%\"></iframe>"
      ],
      "text/plain": [
       "<plotly.tools.PlotlyDisplay object>"
      ]
     },
     "execution_count": 12,
     "metadata": {},
     "output_type": "execute_result"
    }
   ],
   "source": [
    "pltdata = []\n",
    "\n",
    "for i in range(0,3):\n",
    "    # Create a trace\n",
    "    q = 'rgb('+repr(np.round(colors[i][0]*256))+','+repr(np.round(colors[i][1]*256))+','+repr(np.round(colors[i][2]*256))+')'\n",
    "\n",
    "    trace = go.Scatter(\n",
    "        name = 'Cell' + repr(i),\n",
    "        x = xDat[i,:],\n",
    "        y = yDat[i,:],\n",
    "        marker = dict(\n",
    "                    color = q,\n",
    "                    size = 8,\n",
    "                    symbol = 'circle',\n",
    "                    line = dict(\n",
    "                        color = q,\n",
    "                        width = 1.0\n",
    "                    ),\n",
    "                    opacity = 0.4\n",
    "                )\n",
    "        )\n",
    "    pltdata.append(trace)\n",
    "    print(q)\n",
    "\n",
    "data = [trace]\n",
    "\n",
    "py.iplot(data, filename='basic-line')"
   ]
  },
  {
   "cell_type": "code",
   "execution_count": 107,
   "metadata": {},
   "outputs": [
    {
     "ename": "NameError",
     "evalue": "name 'Positions' is not defined",
     "output_type": "error",
     "traceback": [
      "\u001b[0;31m---------------------------------------------------------------------------\u001b[0m",
      "\u001b[0;31mNameError\u001b[0m                                 Traceback (most recent call last)",
      "\u001b[0;32m<ipython-input-107-66c4b04d0d0f>\u001b[0m in \u001b[0;36m<module>\u001b[0;34m()\u001b[0m\n\u001b[1;32m      2\u001b[0m trace = go.Scatter(\n\u001b[1;32m      3\u001b[0m             \u001b[0mname\u001b[0m \u001b[0;34m=\u001b[0m \u001b[0;34m'SyntheticSphere'\u001b[0m\u001b[0;34m,\u001b[0m\u001b[0;34m\u001b[0m\u001b[0m\n\u001b[0;32m----> 4\u001b[0;31m             \u001b[0mx\u001b[0m \u001b[0;34m=\u001b[0m \u001b[0mPositions\u001b[0m\u001b[0;34m[\u001b[0m\u001b[0;34m:\u001b[0m\u001b[0;34m,\u001b[0m\u001b[0;36m1\u001b[0m\u001b[0;34m]\u001b[0m\u001b[0;34m,\u001b[0m\u001b[0;34m\u001b[0m\u001b[0m\n\u001b[0m\u001b[1;32m      5\u001b[0m             \u001b[0my\u001b[0m \u001b[0;34m=\u001b[0m \u001b[0mPositions\u001b[0m\u001b[0;34m[\u001b[0m\u001b[0;34m:\u001b[0m\u001b[0;34m,\u001b[0m\u001b[0;36m2\u001b[0m\u001b[0;34m]\u001b[0m\u001b[0;34m,\u001b[0m\u001b[0;34m\u001b[0m\u001b[0m\n\u001b[1;32m      6\u001b[0m             \u001b[0mmode\u001b[0m \u001b[0;34m=\u001b[0m \u001b[0;34m'markers'\u001b[0m\u001b[0;34m,\u001b[0m\u001b[0;34m\u001b[0m\u001b[0m\n",
      "\u001b[0;31mNameError\u001b[0m: name 'Positions' is not defined"
     ]
    }
   ],
   "source": [
    "plt_data = []\n",
    "trace = go.Scatter(\n",
    "            name = 'SyntheticSphere',\n",
    "            x = Positions[:,1],\n",
    "            y = Positions[:,2],\n",
    "            mode = 'markers',\n",
    "            marker = dict(\n",
    "                color = 1,\n",
    "                size = 8,\n",
    "                symbol = 'circle',\n",
    "                line = dict(\n",
    "                    color = 'rgb(180, 180, 180)',\n",
    "                    width = 1.0\n",
    "                ),\n",
    "                opacity = 0.4\n",
    "            )\n",
    "        )\n",
    "\n",
    "plt_data.append(trace)\n",
    "\n",
    "layout = go.Layout(margin = dict(l = 0, r = 0, b = 0, t = 0))\n",
    "\n",
    "fig = go.Figure(data=plt_data, layout=layout)\n",
    "\n",
    "iplot(fig) "
   ]
  },
  {
   "cell_type": "code",
   "execution_count": null,
   "metadata": {},
   "outputs": [],
   "source": []
  }
 ],
 "metadata": {
  "kernelspec": {
   "display_name": "Python 2",
   "language": "python",
   "name": "python2"
  },
  "language_info": {
   "codemirror_mode": {
    "name": "ipython",
    "version": 2
   },
   "file_extension": ".py",
   "mimetype": "text/x-python",
   "name": "python",
   "nbconvert_exporter": "python",
   "pygments_lexer": "ipython2",
   "version": "2.7.15"
  }
 },
 "nbformat": 4,
 "nbformat_minor": 2
}
