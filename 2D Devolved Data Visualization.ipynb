{
 "cells": [
  {
   "cell_type": "markdown",
   "metadata": {},
   "source": [
    "# 2D Visualization of 3D Data\n",
    "## Zachary Neronha, Wong Lab\n",
    "### 26 October 2018, created for the purpose of simple viewing of data in two dimensions "
   ]
  },
  {
   "cell_type": "code",
   "execution_count": 1,
   "metadata": {},
   "outputs": [
    {
     "data": {
      "text/html": [
       "<script>requirejs.config({paths: { 'plotly': ['https://cdn.plot.ly/plotly-latest.min']},});if(!window.Plotly) {{require(['plotly'],function(plotly) {window.Plotly=plotly;});}}</script>"
      ],
      "text/vnd.plotly.v1+html": [
       "<script>requirejs.config({paths: { 'plotly': ['https://cdn.plot.ly/plotly-latest.min']},});if(!window.Plotly) {{require(['plotly'],function(plotly) {window.Plotly=plotly;});}}</script>"
      ]
     },
     "metadata": {},
     "output_type": "display_data"
    }
   ],
   "source": [
    "import numpy as np\n",
    "import pandas as pd\n",
    "from mpl_toolkits.mplot3d import Axes3D\n",
    "import matplotlib.pyplot as plt\n",
    "import matplotlib\n",
    "import matplotlib.cm as cm\n",
    "import plotly.graph_objs as go\n",
    "from plotly.offline import download_plotlyjs, init_notebook_mode, plot, iplot\n",
    "%matplotlib inline\n",
    "from __future__ import division\n",
    "init_notebook_mode(connected=True)\n",
    "import plotly.plotly as py\n",
    "import plotly\n",
    "plotly.tools.set_credentials_file(username='zjneronha', api_key='PMrKGUGAet6kUZ5Rcf5E')\n",
    "import brewer2mpl as cbrew"
   ]
  },
  {
   "cell_type": "code",
   "execution_count": 61,
   "metadata": {},
   "outputs": [],
   "source": [
    "#Create helper functions\n",
    "def findRange(xPts,yPts,xRange,yRange):\n",
    "    cellList = []\n",
    "    for ii in range(0,np.size(xPts,0)):\n",
    "        qLog = np.greater(xPts[ii,:],xRange[0]) & np.less(xPts[ii,:],xRange[1])\n",
    "        pLog = np.greater(yPts[ii,:],yRange[0]) & np.less(yPts[ii,:],yRange[1])\n",
    "        qLog = sum(qLog)\n",
    "        pLog = sum(pLog)\n",
    "\n",
    "        if qLog > 0 and pLog >0:\n",
    "            cellList.append(ii)\n",
    "    \n",
    "    return cellList"
   ]
  },
  {
   "cell_type": "code",
   "execution_count": 69,
   "metadata": {},
   "outputs": [],
   "source": [
    "#import data from csv\n",
    "xlsZ = pd.ExcelFile(\"NuclearTracking/ConvertedData/w19_combineddata.xls\")\n",
    "dxx = pd.read_excel(xlsZ,'xStore')\n",
    "dyy = pd.read_excel(xlsZ,'yStore')\n",
    "dzz = pd.read_excel(xlsZ,'zStore')\n",
    "xDat = np.array(dxx)\n",
    "yDat = np.array(dyy)\n",
    "zDat = np.array(dzz)\n",
    "#cmap = cbrew.get_map('PuOr','Diverging',5).mpl_colors\n",
    "#colors = [list(elem) for elem in cmap]"
   ]
  },
  {
   "cell_type": "code",
   "execution_count": 70,
   "metadata": {
    "scrolled": false
   },
   "outputs": [
    {
     "name": "stdout",
     "output_type": "stream",
     "text": [
      "High five! You successfully sent some data to your account on plotly. View your plot in your browser at https://plot.ly/~zjneronha/0 or inside your plot.ly account where it is named 'basic-line'\n"
     ]
    },
    {
     "name": "stderr",
     "output_type": "stream",
     "text": [
      "/home/dbhaskar92/anaconda2/lib/python2.7/site-packages/plotly/api/v1/clientresp.py:40: UserWarning:\n",
      "\n",
      "Estimated Draw Time Too Long\n",
      "\n"
     ]
    },
    {
     "data": {
      "text/html": [
       "<iframe id=\"igraph\" scrolling=\"no\" style=\"border:none;\" seamless=\"seamless\" src=\"https://plot.ly/~zjneronha/0.embed\" height=\"525px\" width=\"100%\"></iframe>"
      ],
      "text/plain": [
       "<plotly.tools.PlotlyDisplay object>"
      ]
     },
     "execution_count": 70,
     "metadata": {},
     "output_type": "execute_result"
    }
   ],
   "source": [
    "pltdata = []\n",
    "for i in range(0,np.size(xDat,0)):\n",
    "    # Create a trace\n",
    "    trace = go.Scatter(\n",
    "        name = 'Cell ' + repr(i),\n",
    "        x = xDat[i,:],\n",
    "        y = yDat[i,:],   \n",
    "        )\n",
    "    pltdata.append(trace)\n",
    "data = [pltdata]\n",
    "\n",
    "py.iplot(pltdata, filename='basic-line')"
   ]
  },
  {
   "cell_type": "code",
   "execution_count": null,
   "metadata": {},
   "outputs": [],
   "source": []
  }
 ],
 "metadata": {
  "kernelspec": {
   "display_name": "Python 2",
   "language": "python",
   "name": "python2"
  },
  "language_info": {
   "codemirror_mode": {
    "name": "ipython",
    "version": 2
   },
   "file_extension": ".py",
   "mimetype": "text/x-python",
   "name": "python",
   "nbconvert_exporter": "python",
   "pygments_lexer": "ipython2",
   "version": "2.7.15"
  }
 },
 "nbformat": 4,
 "nbformat_minor": 2
}
