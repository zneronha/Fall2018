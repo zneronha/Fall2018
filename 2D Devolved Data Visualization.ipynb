{
 "cells": [
  {
   "cell_type": "markdown",
   "metadata": {},
   "source": [
    "# 2D Visualization of 3D Data\n",
    "## Zachary Neronha, Wong Lab\n",
    "### 26 October 2018, created for the purpose of simple viewing of data in two dimensions "
   ]
  },
  {
   "cell_type": "code",
   "execution_count": 1,
   "metadata": {},
   "outputs": [
    {
     "data": {
      "text/html": [
       "<script>requirejs.config({paths: { 'plotly': ['https://cdn.plot.ly/plotly-latest.min']},});if(!window.Plotly) {{require(['plotly'],function(plotly) {window.Plotly=plotly;});}}</script>"
      ],
      "text/vnd.plotly.v1+html": [
       "<script>requirejs.config({paths: { 'plotly': ['https://cdn.plot.ly/plotly-latest.min']},});if(!window.Plotly) {{require(['plotly'],function(plotly) {window.Plotly=plotly;});}}</script>"
      ]
     },
     "metadata": {},
     "output_type": "display_data"
    }
   ],
   "source": [
    "import numpy as np\n",
    "import pandas as pd\n",
    "from mpl_toolkits.mplot3d import Axes3D\n",
    "import matplotlib.pyplot as plt\n",
    "import matplotlib\n",
    "import matplotlib.cm as cm\n",
    "import plotly.graph_objs as go\n",
    "from plotly.offline import download_plotlyjs, init_notebook_mode, plot, iplot\n",
    "%matplotlib inline\n",
    "from __future__ import division\n",
    "init_notebook_mode(connected=True)\n",
    "import plotly.plotly as py\n",
    "import plotly\n",
    "plotly.tools.set_credentials_file(username='zjneronha', api_key='PMrKGUGAet6kUZ5Rcf5E')"
   ]
  },
  {
   "cell_type": "code",
   "execution_count": 10,
   "metadata": {},
   "outputs": [],
   "source": [
    "#import data from csv\n",
    "xlsZ = pd.ExcelFile(\"NuclearTracking/ConvertedData/w18_combineddata.xls\")\n",
    "dxx = pd.read_excel(xlsZ,'xStore')\n",
    "dyy = pd.read_excel(xlsZ,'yStore')\n",
    "dzz = pd.read_excel(xlsZ,'zStore')"
   ]
  },
  {
   "cell_type": "code",
   "execution_count": 30,
   "metadata": {},
   "outputs": [
    {
     "name": "stdout",
     "output_type": "stream",
     "text": [
      "High five! You successfully sent some data to your account on plotly. View your plot in your browser at https://plot.ly/~zjneronha/0 or inside your plot.ly account where it is named 'basic-line'\n"
     ]
    },
    {
     "data": {
      "text/html": [
       "<iframe id=\"igraph\" scrolling=\"no\" style=\"border:none;\" seamless=\"seamless\" src=\"https://plot.ly/~zjneronha/0.embed\" height=\"525px\" width=\"100%\"></iframe>"
      ],
      "text/plain": [
       "<plotly.tools.PlotlyDisplay object>"
      ]
     },
     "execution_count": 30,
     "metadata": {},
     "output_type": "execute_result"
    }
   ],
   "source": [
    "N = 500\n",
    "random_x = np.linspace(-10,10,1001)\n",
    "random_y = random_x**2\n",
    "\n",
    "# Create a trace\n",
    "trace = go.Scatter(\n",
    "    x = random_x,\n",
    "    y = random_y\n",
    "    )\n",
    "\n",
    "trace2 = go.Scatter(\n",
    "    x = random_x,\n",
    "    y = random_y*-1\n",
    "    )\n",
    "\n",
    "data = [trace,trace2]\n",
    "\n",
    "py.iplot(data, filename='basic-line')"
   ]
  },
  {
   "cell_type": "code",
   "execution_count": null,
   "metadata": {},
   "outputs": [],
   "source": [
    "plt_data = []\n",
    "trace = go.Scatter(\n",
    "            name = 'SyntheticSphere',\n",
    "            x = Positions[:,1],\n",
    "            y = Positions[:,2],\n",
    "            mode = 'markers',\n",
    "            marker = dict(\n",
    "                color = 1,\n",
    "                size = 8,\n",
    "                symbol = 'circle',\n",
    "                line = dict(\n",
    "                    color = 'rgb(180, 180, 180)',\n",
    "                    width = 1.0\n",
    "                ),\n",
    "                opacity = 0.4\n",
    "            )\n",
    "        )\n",
    "\n",
    "plt_data.append(trace)\n",
    "\n",
    "layout = go.Layout(margin = dict(l = 0, r = 0, b = 0, t = 0))\n",
    "\n",
    "fig = go.Figure(data=plt_data, layout=layout)\n",
    "\n",
    "iplot(fig) "
   ]
  }
 ],
 "metadata": {
  "kernelspec": {
   "display_name": "Python 2",
   "language": "python",
   "name": "python2"
  },
  "language_info": {
   "codemirror_mode": {
    "name": "ipython",
    "version": 2
   },
   "file_extension": ".py",
   "mimetype": "text/x-python",
   "name": "python",
   "nbconvert_exporter": "python",
   "pygments_lexer": "ipython2",
   "version": "2.7.15"
  }
 },
 "nbformat": 4,
 "nbformat_minor": 2
}
