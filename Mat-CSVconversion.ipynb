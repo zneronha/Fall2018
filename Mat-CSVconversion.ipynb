{
 "cells": [
  {
   "cell_type": "markdown",
   "metadata": {},
   "source": [
    "# Mat file to CSV data conversion\n",
    "## Zachary Neronha, Wong Lab\n",
    "### 13 November 2018"
   ]
  },
  {
   "cell_type": "code",
   "execution_count": 13,
   "metadata": {},
   "outputs": [],
   "source": [
    "import numpy as np\n",
    "import pandas as pd\n",
    "import scipy.io as sio\n",
    "import glob\n",
    "import os"
   ]
  },
  {
   "cell_type": "code",
   "execution_count": 14,
   "metadata": {},
   "outputs": [],
   "source": [
    "readpath = glob.glob(\"JohnCircles/*.mat\")"
   ]
  },
  {
   "cell_type": "code",
   "execution_count": 15,
   "metadata": {
    "scrolled": false
   },
   "outputs": [
    {
     "name": "stdout",
     "output_type": "stream",
     "text": [
      "JohnCircles/circle_diff_radii_2.csv\n",
      "JohnCircles/circle_diff_radii_5.csv\n",
      "JohnCircles/circle_diff_radii_8.csv\n",
      "JohnCircles/circle_diff_radii_9.csv\n",
      "JohnCircles/circle_diff_radii_6.csv\n",
      "JohnCircles/circle_diff_radii_7.csv\n",
      "JohnCircles/circle_diff_radii_1.csv\n",
      "JohnCircles/circle_diff_radii_10.csv\n",
      "JohnCircles/circle_diff_radii_4.csv\n",
      "JohnCircles/circle_diff_radii_3.csv\n"
     ]
    }
   ],
   "source": [
    "for pathS in readpath:\n",
    "    path = pathS\n",
    "    newpath = path.split(\".\")[0]\n",
    "    newpath = newpath + \".csv\"\n",
    "    filename = os.path.basename(path)\n",
    "    g = sio.loadmat(path)\n",
    "    dat = g[\"data\"]\n",
    "    print(newpath)\n",
    "    dExp = pd.DataFrame(dat)\n",
    "    dExp.to_csv(newpath,index=False,header = False)"
   ]
  }
 ],
 "metadata": {
  "kernelspec": {
   "display_name": "Python 2",
   "language": "python",
   "name": "python2"
  },
  "language_info": {
   "codemirror_mode": {
    "name": "ipython",
    "version": 2
   },
   "file_extension": ".py",
   "mimetype": "text/x-python",
   "name": "python",
   "nbconvert_exporter": "python",
   "pygments_lexer": "ipython2",
   "version": "2.7.15"
  }
 },
 "nbformat": 4,
 "nbformat_minor": 2
}
