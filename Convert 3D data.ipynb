{
 "cells": [
  {
   "cell_type": "code",
   "execution_count": 2,
   "metadata": {},
   "outputs": [],
   "source": [
    "import numpy as np\n",
    "import pandas as pd\n",
    "\n",
    "df = pd.read_csv('w18_Position.csv',skiprows=[0,1,2])\n",
    "inputdata = np.array(df)"
   ]
  },
  {
   "cell_type": "code",
   "execution_count": 3,
   "metadata": {},
   "outputs": [],
   "source": [
    "#split up data into constitutant columns \n",
    "Xdata = inputdata[:,0]\n",
    "Ydata = inputdata[:,1]\n",
    "Zdata = inputdata[:,2]\n",
    "Tdata = inputdata[:,6]\n",
    "TrackID = inputdata[:,7]\n",
    "\n",
    "#rescale data as needed\n",
    "TrackID = TrackID-min(TrackID)\n",
    "Xdata = Xdata-min(Xdata)\n",
    "Ydata = Ydata-min(Ydata)\n",
    "Zdata = Zdata-min(Zdata)\n",
    "Tdata = Tdata - 1\n"
   ]
  },
  {
   "cell_type": "code",
   "execution_count": 4,
   "metadata": {},
   "outputs": [],
   "source": [
    "#how many actual cells\n",
    "TrackIDl = np.isnan(np.float64(TrackID))\n",
    "tiReal = TrackID[TrackIDl==False]\n",
    "numCELL = len(np.unique(tiReal))\n",
    "\n",
    "#preallocate memory for final dataframes\n",
    "xStore = np.empty((numCELL,len(np.unique(Tdata))))\n",
    "yStore = np.empty((numCELL,len(np.unique(Tdata))))\n",
    "zStore = np.empty((numCELL,len(np.unique(Tdata))))\n",
    "xStore[:] = np.nan\n",
    "yStore[:] = np.nan\n",
    "zStore[:] = np.nan"
   ]
  },
  {
   "cell_type": "code",
   "execution_count": 5,
   "metadata": {},
   "outputs": [],
   "source": [
    "#loop through time frames\n",
    "for time in range(0,len(np.unique(Tdata))):\n",
    "#for time in range(0,10):\n",
    "    #pull out appropriate temporal data\n",
    "    tempIX = Tdata == time\n",
    "    tempT = Tdata[tempIX==True]\n",
    "    tempX = Xdata[tempIX==True]\n",
    "    tempY = Ydata[tempIX==True]\n",
    "    tempZ = Zdata[tempIX==True]\n",
    "    tempID = TrackID[tempIX==True]\n",
    "    \n",
    "    for ii in range(0,len(np.unique(tempID))):\n",
    "        #determine which cell we are indexing\n",
    "        cell = tempID[ii]\n",
    "        #if the cell is registered\n",
    "        if np.isnan(np.float64(cell))==False:\n",
    "            cell = np.int64(cell)\n",
    "            xStore[cell,time] = tempX[np.int64(ii)]\n",
    "            yStore[cell,time] = tempY[np.int64(ii)]\n",
    "            zStore[cell,time] = tempZ[np.int64(ii)]"
   ]
  },
  {
   "cell_type": "code",
   "execution_count": 11,
   "metadata": {},
   "outputs": [],
   "source": [
    "dx = pd.DataFrame(xStore)\n",
    "dy = pd.DataFrame(yStore)\n",
    "dz = pd.DataFrame(zStore)\n",
    "\n",
    "writer = pd.ExcelWriter('w18_combineddata.xlsx',engine='xlsxwriter')\n",
    "dx.to_excel(writer, sheet_name='xStore')\n",
    "dy.to_excel(writer, sheet_name='yStore')\n",
    "dz.to_excel(writer, sheet_name='zStore')\n",
    "\n",
    "#dx.to_csv('w18_Xdata.csv',index=False)\n",
    "#dy.to_csv('w18_Ydata.csv',index=False)\n",
    "#dz.to_csv('w18_Zdata.csv',index=False)"
   ]
  },
  {
   "cell_type": "code",
   "execution_count": 6,
   "metadata": {},
   "outputs": [],
   "source": []
  },
  {
   "cell_type": "code",
   "execution_count": null,
   "metadata": {},
   "outputs": [],
   "source": []
  }
 ],
 "metadata": {
  "kernelspec": {
   "display_name": "Python 2",
   "language": "python",
   "name": "python2"
  },
  "language_info": {
   "codemirror_mode": {
    "name": "ipython",
    "version": 2
   },
   "file_extension": ".py",
   "mimetype": "text/x-python",
   "name": "python",
   "nbconvert_exporter": "python",
   "pygments_lexer": "ipython2",
   "version": "2.7.15"
  }
 },
 "nbformat": 4,
 "nbformat_minor": 2
}
